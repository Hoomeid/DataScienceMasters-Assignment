{
 "cells": [
  {
   "cell_type": "markdown",
   "id": "63137595-7664-410c-8ead-e34010e33984",
   "metadata": {},
   "source": [
    "# Q1. What is Statistics?"
   ]
  },
  {
   "cell_type": "code",
   "execution_count": 3,
   "id": "a615f8cd-e4ac-4135-9b64-f5ffc243d7d3",
   "metadata": {
    "tags": []
   },
   "outputs": [],
   "source": [
    "# it is the science of collecting, organizing and analyzing the data "
   ]
  },
  {
   "cell_type": "markdown",
   "id": "ac22bbc6-3c0f-428e-bc40-663d6f848656",
   "metadata": {},
   "source": [
    "# Define the different types of statistics and give an example of when each type might be used."
   ]
  },
  {
   "cell_type": "code",
   "execution_count": 7,
   "id": "596b9e40-a78b-48e9-ad5e-a464f2bf97c4",
   "metadata": {
    "tags": []
   },
   "outputs": [],
   "source": [
    "# The two types of statistics are descriptive and inferential.\n",
    "# Descriptive statistics --- organizing and summarizing the data. Example mean median and mode\n",
    "# Inferential statistics --- Finding inefrences or conclusions from the measured data. Example --- Hypothesis testing\n"
   ]
  },
  {
   "cell_type": "markdown",
   "id": "4d635c42-e06b-4c5d-b6f4-4fa3f1ebf0cc",
   "metadata": {},
   "source": [
    "# What are the different types of data and how do they differ from each other? Provide an example of each type of data."
   ]
  },
  {
   "cell_type": "code",
   "execution_count": 17,
   "id": "be3b87a9-7233-4f94-a45e-6999f20bda37",
   "metadata": {
    "tags": []
   },
   "outputs": [
    {
     "ename": "IndentationError",
     "evalue": "unexpected indent (1671374239.py, line 2)",
     "output_type": "error",
     "traceback": [
      "\u001b[1;36m  Cell \u001b[1;32mIn[17], line 2\u001b[1;36m\u001b[0m\n\u001b[1;33m    * Quantitative (Numerical)\u001b[0m\n\u001b[1;37m    ^\u001b[0m\n\u001b[1;31mIndentationError\u001b[0m\u001b[1;31m:\u001b[0m unexpected indent\n"
     ]
    }
   ],
   "source": [
    "### The different types of data are ::\n",
    "    * Quantitative (Numerical)\n",
    "        1 -- Discrete (Whole Number eg. Bank account, number of cars )\n",
    "        2 -- Continous (Any value eg. weight)\n",
    "    \n",
    "    * Qualitative (Categorical)\n",
    "        1 -- Nominal (eg . Gender)\n",
    "        2 -- Ordinal (eg. Rank)\n",
    "###\n"
   ]
  },
  {
   "cell_type": "markdown",
   "id": "24a41b31-d0cc-4e6e-bc3d-8ce984cb9b00",
   "metadata": {
    "tags": []
   },
   "source": [
    "# Q4. Categorise the following datasets with respect to quantitative and qualitative data types:"
   ]
  },
  {
   "cell_type": "code",
   "execution_count": 23,
   "id": "4bcd84f5-5dc7-4dae-967d-e4c6f45900c4",
   "metadata": {
    "tags": []
   },
   "outputs": [],
   "source": [
    "#(i) Grading in exam: A+, A, B+, B, C+, C, D, E --- qualitative\n",
    "#(ii) Colour of mangoes: yellow, green, orange, red --- qualitative\n",
    "#(iii) Height data of a class: [178.9, 179, 179.5, 176, 177.2, 178.3, 175.8,...] --- quantitative\n",
    "#(iv) Number of mangoes exported by a farm: [500, 600, 478, 672, ...] --- quantitative"
   ]
  },
  {
   "cell_type": "markdown",
   "id": "ccbe05a2-e8b3-441e-aa77-641bf97d3853",
   "metadata": {},
   "source": [
    "# Explain the concept of levels of measurement and give an example of a variable for each level."
   ]
  },
  {
   "cell_type": "code",
   "execution_count": 27,
   "id": "02663b39-f04d-47f4-baf8-d1cc099c6575",
   "metadata": {
    "tags": []
   },
   "outputs": [],
   "source": [
    "# The four level of measurement in statistics are \n",
    "# 1 - Nominal ( eg. Gender)\n",
    "# 2 - ordinal (eg. Rank)\n",
    "# 3 - Interval (eg. temperature)\n",
    "# 4 - Ratio (eg. Grades)"
   ]
  },
  {
   "cell_type": "markdown",
   "id": "321a2be0-5474-4ff4-bc31-7b648886b362",
   "metadata": {},
   "source": [
    "# Why is it important to understand the level of measurement when analyzing data? Provide an example to illustrate your answer."
   ]
  },
  {
   "cell_type": "code",
   "execution_count": 31,
   "id": "72a09a0c-b1cb-4d36-8086-60f1f7a37092",
   "metadata": {
    "tags": []
   },
   "outputs": [],
   "source": [
    "# The level of measurement is important because it helps to analyze and summarise the data.\n"
   ]
  },
  {
   "cell_type": "markdown",
   "id": "6dbc9a70-83f4-40fb-870b-025400c3f2f2",
   "metadata": {},
   "source": [
    "# How nominal data type is different from ordinal data type."
   ]
  },
  {
   "cell_type": "code",
   "execution_count": 35,
   "id": "65060b7e-6134-49c8-83ae-61edb200e4c5",
   "metadata": {
    "tags": []
   },
   "outputs": [],
   "source": [
    "# It is different since in nominal order and doesn't matter"
   ]
  },
  {
   "cell_type": "markdown",
   "id": "ad58bca5-d6e5-47ab-9ff6-09c88a73f3a6",
   "metadata": {},
   "source": [
    "# Which type of plot can be used to display data in terms of range?"
   ]
  },
  {
   "cell_type": "code",
   "execution_count": 41,
   "id": "f02af3d2-dda4-4b2f-a84c-1ff682ec824d",
   "metadata": {
    "tags": []
   },
   "outputs": [],
   "source": [
    "# Box plot with whiskers"
   ]
  },
  {
   "cell_type": "markdown",
   "id": "17d856b1-06b3-442f-a691-201b32fc95a0",
   "metadata": {},
   "source": [
    "# Describe the difference between descriptive and inferential statistics. Give an example of each type of statistics and explain how they are used."
   ]
  },
  {
   "cell_type": "code",
   "execution_count": 47,
   "id": "528e7142-6559-45ef-8be4-f1f603233faa",
   "metadata": {
    "tags": []
   },
   "outputs": [],
   "source": [
    "# Descriptive statistics aim to summarize and describe the features of a dataset. This type of statistics provides simple summaries about the sample and the measures. It helps in presenting the data in a meaningful way, which allows for simpler interpretation of the data.\n",
    "# Inferential statistics go beyond describing the data. They make inferences and predictions about a population based on a sample of data drawn from that population.\n",
    "\n",
    "# Eg - descriptive (mean median mode)\n",
    "# Eg - Inferential (Hypothesis , regression)"
   ]
  },
  {
   "cell_type": "markdown",
   "id": "96b85c6f-57cc-424d-93c5-980ebdb463c5",
   "metadata": {
    "tags": []
   },
   "source": [
    "# What are some common measures of central tendency and variability used in statistics? Explain how each measure can be used to describe a dataset."
   ]
  },
  {
   "cell_type": "code",
   "execution_count": null,
   "id": "6e865dc5-d742-4e39-88a7-93eada1a5ebd",
   "metadata": {},
   "outputs": [],
   "source": [
    "mean -- The mean is the sum of all the values in a dataset divided by the number of values.\n",
    "median -- The median is the middle value when the data are ordered from smallest to largest. If there is an even number of observations, it is the average of the two middle numbers.\n",
    "mode -- The mode is the value that appears most frequently in a dataset.\n"
   ]
  }
 ],
 "metadata": {
  "kernelspec": {
   "display_name": "Python 3 (ipykernel)",
   "language": "python",
   "name": "python3"
  },
  "language_info": {
   "codemirror_mode": {
    "name": "ipython",
    "version": 3
   },
   "file_extension": ".py",
   "mimetype": "text/x-python",
   "name": "python",
   "nbconvert_exporter": "python",
   "pygments_lexer": "ipython3",
   "version": "3.11.5"
  }
 },
 "nbformat": 4,
 "nbformat_minor": 5
}
